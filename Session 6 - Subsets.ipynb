{
 "metadata": {
  "name": "",
  "signature": "sha256:cef30aea22532b9203c5789f1376300752add568fe3b8d9ceebd8be905a42cdd"
 },
 "nbformat": 3,
 "nbformat_minor": 0,
 "worksheets": [
  {
   "cells": [
    {
     "cell_type": "heading",
     "level": 3,
     "metadata": {},
     "source": [
      "Session 6: Selecting interval subsets"
     ]
    },
    {
     "cell_type": "markdown",
     "metadata": {},
     "source": [
      "This session extends on the capabilities of multi-criteria conditional searches by selecting subsets of interval tiers\n",
      "\n",
      "A subset can be defined as: \n",
      "\n",
      "* selecting intervals depending on the temporal properties (start time, end time, duration)\n",
      "\n",
      "* selecting intervals depending on the properties of the interval's value (the value itself satisfies a condition)\n",
      "\n",
      "Subsets are created as new tiers which can be combined in multi-criteria conditional operations as shown previously in session 5\n",
      "\n"
     ]
    },
    {
     "cell_type": "code",
     "collapsed": false,
     "input": [
      "import sys\n",
      "sys.path.append('X:\\\\2014_07_31_sk\\code\\python')"
     ],
     "language": "python",
     "metadata": {},
     "outputs": [],
     "prompt_number": 0
    },
    {
     "cell_type": "code",
     "collapsed": false,
     "input": [
      "%matplotlib inline\n",
      "import matplotlib.pylab as plt\n",
      "import pandas as pd  \n",
      "from mumodo.mumodoIO import open_intervalframe_from_textgrid, save_intervalframe_to_textgrid\n",
      "from mumodo.analysis import plot_annotations, intervalframe_overlaps, intervalframe_union"
     ],
     "language": "python",
     "metadata": {},
     "outputs": [],
     "prompt_number": 4
    },
    {
     "cell_type": "code",
     "collapsed": false,
     "input": [
      "pd.set_option('display.column_space',2000)\n",
      "pd.set_option('display.max_columns',40)\n",
      "pd.set_option('display.max_rows',400)"
     ],
     "language": "python",
     "metadata": {},
     "outputs": [],
     "prompt_number": 2
    },
    {
     "cell_type": "heading",
     "level": 4,
     "metadata": {},
     "source": [
      "STEP 1: Import data"
     ]
    },
    {
     "cell_type": "markdown",
     "metadata": {},
     "source": [
      "We will be using the same sample data as in session 5. You will be instructed which file to use \n",
      "\n",
      "NOTE: Use double backslashes \"\\\\\" on windows systems"
     ]
    },
    {
     "cell_type": "code",
     "collapsed": false,
     "input": [
      "filename1 = 'X:\\\\2014_07_31_sk\\\\sampledata\\\\session5\\\\somefile'\n",
      "filename2 = 'X:\\\\2014_07_31_sk\\\\sampledata\\\\session5\\\\otherfile'\n",
      "transcription = open_intervalframe_from_textgrid(filename1)\n",
      "headgestures = open_intervalframe_from_textgrid(fil  ename2)"
     ],
     "language": "python",
     "metadata": {},
     "outputs": [],
     "prompt_number": 3
    },
    {
     "cell_type": "markdown",
     "metadata": {},
     "source": [
      "Assign tiers to intermediate variables (these will be used later)"
     ]
    },
    {
     "cell_type": "code",
     "collapsed": false,
     "input": [
      "speechA = transcription['A']\n",
      "speechB = transcription['B']\n",
      "gesturesA = headgestures['headA']\n",
      "gesturesB = headgestures['headB']"
     ],
     "language": "python",
     "metadata": {},
     "outputs": [],
     "prompt_number": 0
    },
    {
     "cell_type": "heading",
     "level": 4,
     "metadata": {},
     "source": [
      "STEP 2: Plot imported data"
     ]
    },
    {
     "cell_type": "markdown",
     "metadata": {},
     "source": [
      "This step serves as a reminder of how to plot many tiers together:\n",
      "\n",
      "* Create a dictionary of the tiers\n",
      "* pass the tier as an argument to the function\n",
      "\n",
      "HINT: Remember that you can set the start and end time of the plot so that you can see a part of the dialogue\n",
      "\n",
      "HINT: By adjusting the scalefactor and time limits, you can make the whole text visible inside the coloured boxes"
     ]
    },
    {
     "cell_type": "code",
     "collapsed": false,
     "input": [
      "plotdict = {'A': speechA, \n",
      "            'B': speechB}"
     ],
     "language": "python",
     "metadata": {},
     "outputs": [],
     "prompt_number": 0
    },
    {
     "cell_type": "code",
     "collapsed": false,
     "input": [
      "plot_annotations(plotdict, scalefactor=0.1,  tierorder=['A', 'B'])"
     ],
     "language": "python",
     "metadata": {},
     "outputs": [],
     "prompt_number": 0
    },
    {
     "cell_type": "heading",
     "level": 3,
     "metadata": {},
     "source": [
      "Subsets"
     ]
    },
    {
     "cell_type": "markdown",
     "metadata": {},
     "source": [
      "Creating a subset of an interval tier is the same as selecting a set of rows from a table.\n",
      "\n",
      "The syntax for doing so is as follows:\n",
      "\n",
      "    table[table[column_name] == value]\n",
      "    \n",
      "* column_name is the name of one of the columnd of the table\n",
      "\n",
      "The above results in a new table which consists of the rows of the original table that satisfy the condition (i.e. the value in that column for each of those rows is equal to the value in the expression). If you want to use this new table later, you *must* assign the result of the expression as a variable, e.g:\n",
      "\n",
      "    newtable = table[table[column_name] > value]\n",
      " \n",
      "* As you noticed, the condition is not necessarily equality, but any of  >,  <,  ==,  !=,  <=,  >=    are allowed"
     ]
    },
    {
     "cell_type": "heading",
     "level": 4,
     "metadata": {},
     "source": [
      "STEP 3: Display an interval tier as a table"
     ]
    },
    {
     "cell_type": "markdown",
     "metadata": {},
     "source": [
      "It is possible to (un)suppress the output by adding/removing a semicolon at the end of the variable\n",
      "\n",
      "Remove the semicolon in the cell below to see the actual table"
     ]
    },
    {
     "cell_type": "code",
     "collapsed": false,
     "input": [
      "speechA  "
     ],
     "language": "python",
     "metadata": {},
     "outputs": [],
     "prompt_number": 0
    },
    {
     "cell_type": "heading",
     "level": 4,
     "metadata": {},
     "source": [
      "STEP 4: Find the subset of intervals within a user-defined start time and end time"
     ]
    },
    {
     "cell_type": "markdown",
     "metadata": {},
     "source": [
      "We need only the rows whose start time is greater than some value and the end time is smaller than some other value"
     ]
    },
    {
     "cell_type": "code",
     "collapsed": false,
     "input": [
      "t1 = 2000\n",
      "t2 = 2100\n",
      "subspeechA = speechA[speechA['start_time'] > t1]\n",
      "subspeechA = subspeechA[subspeechA['end_time'] < t2]"
     ],
     "language": "python",
     "metadata": {},
     "outputs": [],
     "prompt_number": 0
    },
    {
     "cell_type": "markdown",
     "metadata": {},
     "source": [
      "Now plot original tier and the subset together (constrain the plot boundaries as required)"
     ]
    },
    {
     "cell_type": "code",
     "collapsed": false,
     "input": [
      "plotdict['subsetofA'] = subspeechA"
     ],
     "language": "python",
     "metadata": {},
     "outputs": [],
     "prompt_number": 0
    },
    {
     "cell_type": "code",
     "collapsed": false,
     "input": [
      "plot_annotations(plotdict, 1950, 2150, scalefactor=1,  tierorder=['A', 'subsetofA']) "
     ],
     "language": "python",
     "metadata": {},
     "outputs": [],
     "prompt_number": 0
    },
    {
     "cell_type": "heading",
     "level": 4,
     "metadata": {},
     "source": [
      "STEP 5: Find (and plot) the subset of intervals smaller or bigger than a user defined duration"
     ]
    },
    {
     "cell_type": "markdown",
     "metadata": {},
     "source": [
      "We don't know the duration, but we can easily compute it. It is best to create a new column for it:"
     ]
    },
    {
     "cell_type": "code",
     "collapsed": false,
     "input": [
      "speechA['duration'] = speechA['end_time'] - speechA['start_time']\n",
      "speechA;"
     ],
     "language": "python",
     "metadata": {},
     "outputs": [],
     "prompt_number": 0
    },
    {
     "cell_type": "markdown",
     "metadata": {},
     "source": [
      "It is straightforward now to perform the task:"
     ]
    },
    {
     "cell_type": "code",
     "collapsed": false,
     "input": [
      "duration_threshold = 1\n",
      "durationA = speechA[speechA['duration'] < duration_threshold]"
     ],
     "language": "python",
     "metadata": {},
     "outputs": [],
     "prompt_number": 0
    },
    {
     "cell_type": "code",
     "collapsed": false,
     "input": [
      "plotdict['durationsmallerthan_1'] = durationA"
     ],
     "language": "python",
     "metadata": {},
     "outputs": [],
     "prompt_number": 0
    },
    {
     "cell_type": "code",
     "collapsed": false,
     "input": [
      "plot_annotations(plotdict, scalefactor=0.1,  tierorder=['A','durationsmallerthan_1'])"
     ],
     "language": "python",
     "metadata": {},
     "outputs": [],
     "prompt_number": 0
    },
    {
     "cell_type": "heading",
     "level": 4,
     "metadata": {},
     "source": [
      "STEP 6: Find (and plot) the subset of intervals that contain only one word"
     ]
    },
    {
     "cell_type": "markdown",
     "metadata": {},
     "source": [
      "Again, we need to create a new column for the result"
     ]
    },
    {
     "cell_type": "code",
     "collapsed": false,
     "input": [
      "speechA['number_of_words'] = speechA['text'].map(lambda x: len(x.split(\" \")))\n",
      "speechA;   "
     ],
     "language": "python",
     "metadata": {},
     "outputs": [],
     "prompt_number": 0
    },
    {
     "cell_type": "markdown",
     "metadata": {},
     "source": [
      "Create the new table (subspeechA) and plot the result as above"
     ]
    },
    {
     "cell_type": "code",
     "collapsed": false,
     "input": [],
     "language": "python",
     "metadata": {},
     "outputs": [],
     "prompt_number": 0
    },
    {
     "cell_type": "code",
     "collapsed": false,
     "input": [],
     "language": "python",
     "metadata": {},
     "outputs": [],
     "prompt_number": 0
    },
    {
     "cell_type": "code",
     "collapsed": false,
     "input": [],
     "language": "python",
     "metadata": {},
     "outputs": [],
     "prompt_number": 0
    },
    {
     "cell_type": "heading",
     "level": 4,
     "metadata": {},
     "source": [
      "STEP 7: Find (and plot) the subset of intervals that contain a specific, user-defined word"
     ]
    },
    {
     "cell_type": "markdown",
     "metadata": {},
     "source": [
      "This is easier than it sounds, since Python is so good with strings"
     ]
    },
    {
     "cell_type": "code",
     "collapsed": false,
     "input": [
      "word = 'ja'\n",
      "speechA['containsword'] = speechA['text'].map(lambda x: word in x)\n",
      "speechA;"
     ],
     "language": "python",
     "metadata": {},
     "outputs": [],
     "prompt_number": 0
    },
    {
     "cell_type": "markdown",
     "metadata": {},
     "source": [
      "Create the new table (subspeechA) and plot the result as above"
     ]
    },
    {
     "cell_type": "code",
     "collapsed": false,
     "input": [],
     "language": "python",
     "metadata": {},
     "outputs": [],
     "prompt_number": 0
    },
    {
     "cell_type": "code",
     "collapsed": false,
     "input": [],
     "language": "python",
     "metadata": {},
     "outputs": [],
     "prompt_number": 0
    },
    {
     "cell_type": "code",
     "collapsed": false,
     "input": [],
     "language": "python",
     "metadata": {},
     "outputs": [],
     "prompt_number": 0
    },
    {
     "cell_type": "heading",
     "level": 4,
     "metadata": {},
     "source": [
      "STEP 8: Save the plot dictionary to a textgrid and upload it to STUDIP"
     ]
    },
    {
     "cell_type": "markdown",
     "metadata": {},
     "source": [
      "Save the file on Desktop, using the function below:\n",
      "\n",
      "    save_intervalframe_to_textgrid()\n",
      "\n",
      "Name the file using your full name, e.g.\n",
      "\n",
      "spyroskousidis.TextGrid\n",
      "\n",
      "UPLOAD the file to studIP\n",
      "\n",
      "Load the file in Praat or ELAN"
     ]
    },
    {
     "cell_type": "code",
     "collapsed": false,
     "input": [],
     "language": "python",
     "metadata": {},
     "outputs": [],
     "prompt_number": 0
    },
    {
     "cell_type": "heading",
     "level": 3,
     "metadata": {},
     "source": [
      "INTERMISSION"
     ]
    },
    {
     "cell_type": "markdown",
     "metadata": {},
     "source": [
      "It should be obvious by now that creating a subtier requires the following steps\n",
      "\n",
      "* (optionally) create a column on which to evaluate a condition. Examples: duration, number of words, contains a word\n",
      "\n",
      "* SLICE the table on those rows"
     ]
    },
    {
     "cell_type": "heading",
     "level": 3,
     "metadata": {},
     "source": [
      "Combining subsets"
     ]
    },
    {
     "cell_type": "markdown",
     "metadata": {},
     "source": [
      "What if we want to combine two subsets together? \n",
      "\n",
      "We have two ways of doing so:\n",
      "\n",
      "* Use the intersection/union of two interval tiers, as we did with full sets in section 5\n",
      "* create a column as we did above and then create a new column based on that column!\n",
      "\n",
      "Choosing one or the other way is a matter of choice, although it makes sense to create actual subsets if we are going to re-use them. Also, the second option is only possible with intersections and not unions"
     ]
    },
    {
     "cell_type": "heading",
     "level": 4,
     "metadata": {},
     "source": [
      "STEP 9: Find (and plot) the following subset combinations"
     ]
    },
    {
     "cell_type": "markdown",
     "metadata": {},
     "source": [
      "HINT: Here we will have to use intervalframe intersection/union functions from session 5\n",
      "\n",
      "* intervals that either contain only one word or are smaller than 1 second\n",
      "* intervals that contain the word ja and coincide with head nods\n",
      "* "
     ]
    },
    {
     "cell_type": "code",
     "collapsed": false,
     "input": [],
     "language": "python",
     "metadata": {},
     "outputs": []
    }
   ],
   "metadata": {}
  }
 ]
}